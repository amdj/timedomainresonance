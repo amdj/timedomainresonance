{
 "metadata": {
  "name": "",
  "signature": "sha256:6cbbbd8e5e8262619c7495c93758f9e0e660ffd345f9e5bb3915bf21352002f6"
 },
 "nbformat": 3,
 "nbformat_minor": 0,
 "worksheets": [
  {
   "cells": [
    {
     "cell_type": "code",
     "collapsed": false,
     "input": [
      "from os import system\n",
      "system('cmake . && make')\n",
      "%run -i run.py"
     ],
     "language": "python",
     "metadata": {},
     "outputs": []
    },
    {
     "cell_type": "code",
     "collapsed": false,
     "input": [
      "uarr=load('udata.npy')\n",
      "\n",
      "uleft=zeros(uarr.shape[0],dtype=float)\n",
      "for i in range(uarr.shape[0]):\n",
      "    uleft[i]=uarr[i][0]\n",
      "plot(uleft)"
     ],
     "language": "python",
     "metadata": {},
     "outputs": []
    },
    {
     "cell_type": "code",
     "collapsed": false,
     "input": [
      "parr=load('pdata.npy')\n",
      "\n",
      "pend=zeros(parr.shape[0],dtype=float)\n",
      "for i in range(parr.shape[0]):\n",
      "    pend[i]=parr[i][-1]\n",
      "plot(pend)\n",
      "show()"
     ],
     "language": "python",
     "metadata": {},
     "outputs": []
    }
   ],
   "metadata": {}
  }
 ]
}