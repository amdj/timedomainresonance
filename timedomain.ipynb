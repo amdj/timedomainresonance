{
 "metadata": {
  "name": "",
  "signature": "sha256:4b695d53d8ce9715401825830b83ae0060692d114cf9b5b8e49402b7bbd96c0a"
 },
 "nbformat": 3,
 "nbformat_minor": 0,
 "worksheets": [
  {
   "cells": [
    {
     "cell_type": "code",
     "collapsed": false,
     "input": [
      "from timedomaineuler import *\n",
      "#import timedomaineuler"
     ],
     "language": "python",
     "metadata": {},
     "outputs": []
    },
    {
     "cell_type": "code",
     "collapsed": false,
     "input": [
      "#Globalconf accessable with cvar.gc\n",
      "f=85.785\n",
      "T=1/f\n",
      "loglevel=20\n",
      "L=1.\n",
      "gp=300\n",
      "gc=cvar.gc #Reference!\n",
      "dx=L/(gp-1);                    # One left and right gp, so\n",
      "CFL=0.5;\n",
      "gc.setfreq(f)\n",
      "tube=TubeLF(L,gp)\n",
      "dt=min(CFL*dx/gc.c0(),T/50)"
     ],
     "language": "python",
     "metadata": {},
     "outputs": []
    },
    {
     "cell_type": "code",
     "collapsed": false,
     "input": [
      "nr_p_period=20\n",
      "intsteps=int(floor(1./(gc.getfreq()*dt)/nr_p_period))"
     ],
     "language": "python",
     "metadata": {},
     "outputs": []
    },
    {
     "cell_type": "code",
     "collapsed": false,
     "input": [
      "tube.DoIntegration(dt,intsteps)\n",
      "sol=tube.getSol()\n",
      "u=sol.u()\n",
      "p=sol.p()\n",
      "#rho=sol.rho()\n",
      "figure(figsize=(9,3))\n",
      "subplot(121)\n",
      "plot(p)\n",
      "subplot(122)\n",
      "plot(u)"
     ],
     "language": "python",
     "metadata": {},
     "outputs": []
    }
   ],
   "metadata": {}
  }
 ]
}