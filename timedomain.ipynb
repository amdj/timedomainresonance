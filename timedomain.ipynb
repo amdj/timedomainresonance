{
 "metadata": {
  "name": "",
  "signature": "sha256:f48effc45d7e0ce53ecece3d2b83f5c45c2f29c363f0233fd7f2579385deda58"
 },
 "nbformat": 3,
 "nbformat_minor": 0,
 "worksheets": [
  {
   "cells": [
    {
     "cell_type": "code",
     "collapsed": false,
     "input": [
      "from timedomaineuler import *\n",
      "#import timedomaineuler"
     ],
     "language": "python",
     "metadata": {},
     "outputs": [],
     "prompt_number": 1
    },
    {
     "cell_type": "code",
     "collapsed": false,
     "input": [
      "#Globalconf accessable with cvar.gc\n",
      "f=85.785\n",
      "T=1/f\n",
      "loglevel=20\n",
      "L=1.0\n",
      "gp=400\n",
      "gc=cvar.gc #Reference!\n",
      "dx=L/(gp-1);                    # One left and right gp, so\n",
      "CFL=0.01;\n",
      "gc.setfreq(f)\n",
      "tube=TubeLF(L,gp)\n",
      "dt=min(CFL*dx/gc.c0(),T/50)"
     ],
     "language": "python",
     "metadata": {},
     "outputs": [],
     "prompt_number": 2
    },
    {
     "cell_type": "code",
     "collapsed": false,
     "input": [
      "dt"
     ],
     "language": "python",
     "metadata": {},
     "outputs": [
      {
       "metadata": {},
       "output_type": "pyout",
       "prompt_number": 3,
       "text": [
        "7.303933869608436e-08"
       ]
      }
     ],
     "prompt_number": 3
    },
    {
     "cell_type": "code",
     "collapsed": false,
     "input": [
      "gc.c0()"
     ],
     "language": "python",
     "metadata": {},
     "outputs": [
      {
       "metadata": {},
       "output_type": "pyout",
       "prompt_number": 4,
       "text": [
        "343.1391506142924"
       ]
      }
     ],
     "prompt_number": 4
    },
    {
     "cell_type": "code",
     "collapsed": false,
     "input": [
      "nr_p_period=1\n",
      "intsteps=int(floor(1./(gc.getfreq()*dt)/nr_p_period))"
     ],
     "language": "python",
     "metadata": {},
     "outputs": [],
     "prompt_number": 5
    },
    {
     "cell_type": "code",
     "collapsed": false,
     "input": [
      "intsteps=100"
     ],
     "language": "python",
     "metadata": {},
     "outputs": [],
     "prompt_number": 6
    },
    {
     "cell_type": "code",
     "collapsed": false,
     "input": [
      "print(\"DoIntegration relative time step of one period: %0.2e\" %(dt*gc.getfreq()))"
     ],
     "language": "python",
     "metadata": {},
     "outputs": [
      {
       "output_type": "stream",
       "stream": "stdout",
       "text": [
        "DoIntegration relative time step of one period: 6.27e-06\n"
       ]
      }
     ],
     "prompt_number": 7
    },
    {
     "cell_type": "code",
     "collapsed": false,
     "input": [
      "tube.DoIntegration(dt,intsteps)\n",
      "sol=tube.getSol()\n",
      "u=sol.u()\n",
      "p=sol.p()\n",
      "rho=sol.rho()\n",
      "figure(figsize=(9,6))\n",
      "subplot(221)\n",
      "plot(p)\n",
      "subplot(222)\n",
      "plot(u)\n",
      "subplot(223)\n",
      "plot(rho)"
     ],
     "language": "python",
     "metadata": {},
     "outputs": [
      {
       "metadata": {},
       "output_type": "pyout",
       "prompt_number": 10,
       "text": [
        "[<matplotlib.lines.Line2D at 0x7f338420d828>]"
       ]
      },
      {
       "metadata": {},
       "output_type": "display_data",
       "png": "[encoded data removed]",
       "text": [
        "<matplotlib.figure.Figure at 0x7f3384430a90>"
       ]
      }
     ],
     "prompt_number": 10
    },
    {
     "cell_type": "code",
     "collapsed": false,
     "input": [],
     "language": "python",
     "metadata": {},
     "outputs": []
    },
    {
     "cell_type": "code",
     "collapsed": false,
     "input": [],
     "language": "python",
     "metadata": {},
     "outputs": []
    },
    {
     "cell_type": "code",
     "collapsed": false,
     "input": [],
     "language": "python",
     "metadata": {},
     "outputs": []
    },
    {
     "cell_type": "code",
     "collapsed": false,
     "input": [],
     "language": "python",
     "metadata": {},
     "outputs": []
    }
   ],
   "metadata": {}
  }
 ]
}